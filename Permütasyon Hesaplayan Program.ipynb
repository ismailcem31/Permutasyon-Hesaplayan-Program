{
 "cells": [
  {
   "cell_type": "code",
   "execution_count": null,
   "id": "10173f3e",
   "metadata": {},
   "outputs": [],
   "source": [
    "def faktoriyelBul(i):\n",
    "    \n",
    "  if i==1:       \n",
    "    return 1\n",
    "  else: \n",
    "    return i * faktoriyelBul (i-1)\n",
    "    \n",
    "def permutasyonBul(j,k):\n",
    "    \n",
    "  l = 0\n",
    "    \n",
    "  if k>j:        \n",
    "    l = l\n",
    "  else:      \n",
    "    l = faktoriyelBul (j)/faktoriyelBul (j-k)\n",
    "    return l\n",
    "    \n",
    "print(\"Permütasyonunu hesaplamak istediğiniz sayıları giriniz...\")   \n",
    " \n",
    "ilkSayi = int(input(\"İlk sayıyı Giriniz: \"))\n",
    "İkinciSayi = int(input(\"İkinci sayıyı Giriniz: \")) \n",
    " \n",
    "print(\"\\nCevap: \", permutasyonBul(ilkSayi, İkinciSayi) )"
   ]
  }
 ],
 "metadata": {
  "kernelspec": {
   "display_name": "Python 3 (ipykernel)",
   "language": "python",
   "name": "python3"
  },
  "language_info": {
   "codemirror_mode": {
    "name": "ipython",
    "version": 3
   },
   "file_extension": ".py",
   "mimetype": "text/x-python",
   "name": "python",
   "nbconvert_exporter": "python",
   "pygments_lexer": "ipython3",
   "version": "3.11.3"
  }
 },
 "nbformat": 4,
 "nbformat_minor": 5
}
